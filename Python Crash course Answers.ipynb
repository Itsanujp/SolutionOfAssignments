{
 "cells": [
  {
   "cell_type": "markdown",
   "id": "e13147d4",
   "metadata": {},
   "source": [
    "** What is 7 to the power of 4?**"
   ]
  },
  {
   "cell_type": "code",
   "execution_count": 1,
   "id": "585afa58",
   "metadata": {},
   "outputs": [
    {
     "data": {
      "text/plain": [
       "2401"
      ]
     },
     "execution_count": 1,
     "metadata": {},
     "output_type": "execute_result"
    }
   ],
   "source": [
    "7**4"
   ]
  },
  {
   "cell_type": "markdown",
   "id": "64f2df84",
   "metadata": {},
   "source": [
    "** Split this string:**\n",
    "\n",
    "    s = \"Hi there Yogesh!\"\n",
    "    \n",
    "**into a list. **"
   ]
  },
  {
   "cell_type": "code",
   "execution_count": 2,
   "id": "e65fa7a4",
   "metadata": {},
   "outputs": [
    {
     "data": {
      "text/plain": [
       "['Hi', 'there', 'Yogesh!']"
      ]
     },
     "execution_count": 2,
     "metadata": {},
     "output_type": "execute_result"
    }
   ],
   "source": [
    "s=\"Hi there Yogesh!\"\n",
    "s.split()"
   ]
  },
  {
   "cell_type": "markdown",
   "id": "7b0a6fd6",
   "metadata": {},
   "source": [
    "** Given the variables:**\n",
    "\n",
    "    planet = \"Earth\"\n",
    "    diameter = 12742\n",
    "\n",
    "** Use .format() to print the following string: **\n",
    "\n",
    "    The diameter of Earth is 12742 kilometers."
   ]
  },
  {
   "cell_type": "code",
   "execution_count": 4,
   "id": "c91555a7",
   "metadata": {},
   "outputs": [
    {
     "data": {
      "text/plain": [
       "'The diameter ofEarth is 1272 kilometer'"
      ]
     },
     "execution_count": 4,
     "metadata": {},
     "output_type": "execute_result"
    }
   ],
   "source": [
    "planet=\"Earth\"\n",
    "diameter= 1272\n",
    "'The diameter of {} is {} kilometer'.format(planet,diameter)"
   ]
  },
  {
   "cell_type": "code",
   "execution_count": 5,
   "id": "7e2f9957",
   "metadata": {},
   "outputs": [
    {
     "data": {
      "text/plain": [
       "'The diameter of Earth is 1272 kilometer'"
      ]
     },
     "execution_count": 5,
     "metadata": {},
     "output_type": "execute_result"
    }
   ],
   "source": [
    "'The diameter of {a} is {b} kilometer'.format(a='Earth',b='1272')"
   ]
  },
  {
   "cell_type": "markdown",
   "id": "efbf9b83",
   "metadata": {},
   "source": [
    "** Given this nested list, use indexing to grab the word \"hello\" **\n",
    "lst = [1,2,[3,4],[5,[100,200,['hello']],23,11],1,7]"
   ]
  },
  {
   "cell_type": "code",
   "execution_count": 6,
   "id": "56ef3d38",
   "metadata": {},
   "outputs": [],
   "source": [
    "lst = [1,2,[3,4],[5,[100,200,['hello']],23,11],1,7]"
   ]
  },
  {
   "cell_type": "code",
   "execution_count": 7,
   "id": "90a874c5",
   "metadata": {},
   "outputs": [
    {
     "data": {
      "text/plain": [
       "['hello']"
      ]
     },
     "execution_count": 7,
     "metadata": {},
     "output_type": "execute_result"
    }
   ],
   "source": [
    "lst[3][1][2]"
   ]
  },
  {
   "cell_type": "markdown",
   "id": "bc9b38ba",
   "metadata": {},
   "source": [
    "** Given this nested dictionary grab the word \"hello\". Be prepared, this will be annoying/tricky **\n",
    "d = {'k1':[1,2,3,{'tricky':['oh','man','inception',{'target':[1,2,3,'hello']}]}]}"
   ]
  },
  {
   "cell_type": "code",
   "execution_count": 8,
   "id": "a4493821",
   "metadata": {},
   "outputs": [],
   "source": [
    "d = {'k1':[1,2,3,{'tricky':['oh','man','inception',{'target':[1,2,3,'hello']}]}]}"
   ]
  },
  {
   "cell_type": "code",
   "execution_count": 10,
   "id": "5e656a31",
   "metadata": {},
   "outputs": [
    {
     "data": {
      "text/plain": [
       "'hello'"
      ]
     },
     "execution_count": 10,
     "metadata": {},
     "output_type": "execute_result"
    }
   ],
   "source": [
    "d['k1'][3]['tricky'][3]['target'][3]"
   ]
  },
  {
   "cell_type": "markdown",
   "id": "d6dfb548",
   "metadata": {},
   "source": [
    "** Create a function that grabs the email website domain from a string in the form: **\n",
    "\n",
    "    user@domain.com\n",
    "    \n",
    "**So for example, passing \"user@domain.com\" would return: domain.com**"
   ]
  },
  {
   "cell_type": "code",
   "execution_count": 14,
   "id": "607c0f29",
   "metadata": {},
   "outputs": [],
   "source": [
    "def Domain(e):\n",
    "    email=e.split('@')\n",
    "    return email[1]"
   ]
  },
  {
   "cell_type": "code",
   "execution_count": 15,
   "id": "f861c3c4",
   "metadata": {},
   "outputs": [
    {
     "data": {
      "text/plain": [
       "'erd.com'"
      ]
     },
     "execution_count": 15,
     "metadata": {},
     "output_type": "execute_result"
    }
   ],
   "source": [
    "Domain('abc@erd.com')"
   ]
  },
  {
   "cell_type": "markdown",
   "id": "c7ee3dc4",
   "metadata": {},
   "source": [
    "** Create a basic function that returns True if the word 'dog' is contained in the input string. Don't worry about edge cases like a punctuation being attached to the word dog, but do account for capitalization. **"
   ]
  },
  {
   "cell_type": "code",
   "execution_count": 34,
   "id": "f353b566",
   "metadata": {},
   "outputs": [],
   "source": [
    "def check_dog(a):\n",
    "    n1=a.split()\n",
    "    for i in n1:\n",
    "        if i=='dog'or i=='DOG'or i=='Dog':\n",
    "            print('True')\n",
    "  \n",
    "    "
   ]
  },
  {
   "cell_type": "code",
   "execution_count": 35,
   "id": "0829b183",
   "metadata": {},
   "outputs": [
    {
     "name": "stdout",
     "output_type": "stream",
     "text": [
      "True\n"
     ]
    }
   ],
   "source": [
    "check_dog('This is dog ')"
   ]
  },
  {
   "cell_type": "code",
   "execution_count": 36,
   "id": "6dba5725",
   "metadata": {},
   "outputs": [],
   "source": [
    "check_dog('This is cute doggy')"
   ]
  },
  {
   "cell_type": "markdown",
   "id": "d744de99",
   "metadata": {},
   "source": [
    "** Create a function that counts the number of times the word \"dog\" occurs in a string. Again ignore edge cases. **"
   ]
  },
  {
   "cell_type": "code",
   "execution_count": 40,
   "id": "3e804173",
   "metadata": {},
   "outputs": [],
   "source": [
    "def countofdogs(a):\n",
    "    count=0\n",
    "    n1=a.lower().split()\n",
    "    for i in n1:\n",
    "        if i=='dog':\n",
    "            count +=1\n",
    "        else:\n",
    "            count=count\n",
    "    return count"
   ]
  },
  {
   "cell_type": "code",
   "execution_count": 41,
   "id": "a2885c3f",
   "metadata": {},
   "outputs": [
    {
     "data": {
      "text/plain": [
       "1"
      ]
     },
     "execution_count": 41,
     "metadata": {},
     "output_type": "execute_result"
    }
   ],
   "source": [
    "countofdogs('This is dog ')"
   ]
  },
  {
   "cell_type": "code",
   "execution_count": 42,
   "id": "bdf6b7c8",
   "metadata": {},
   "outputs": [
    {
     "data": {
      "text/plain": [
       "1"
      ]
     },
     "execution_count": 42,
     "metadata": {},
     "output_type": "execute_result"
    }
   ],
   "source": [
    "countofdogs('This is DOG ')"
   ]
  },
  {
   "cell_type": "markdown",
   "id": "d7d98f0f",
   "metadata": {},
   "source": [
    "** Use lambda expressions and the filter() function to filter out words from a list that don't start with the letter 's'. For example:**\n",
    "\n",
    "    seq = ['soup','dog','salad','cat','great']\n",
    "\n",
    "**should be filtered down to:**\n",
    "\n",
    "    ['soup','salad']"
   ]
  },
  {
   "cell_type": "code",
   "execution_count": 43,
   "id": "aef0e281",
   "metadata": {},
   "outputs": [],
   "source": [
    "seq = ['soup','dog','salad','cat','great']"
   ]
  },
  {
   "cell_type": "code",
   "execution_count": 2,
   "id": "7562f588",
   "metadata": {},
   "outputs": [
    {
     "data": {
      "text/plain": [
       "['dog', 'cat', 'great']"
      ]
     },
     "execution_count": 2,
     "metadata": {},
     "output_type": "execute_result"
    }
   ],
   "source": [
    "list(filter(lambda v:v[0]!='s',seq))"
   ]
  },
  {
   "cell_type": "code",
   "execution_count": 1,
   "id": "ed3d91dd",
   "metadata": {},
   "outputs": [],
   "source": [
    "seq = ['soup','dog','salad','cat','great','sdfg']"
   ]
  },
  {
   "cell_type": "code",
   "execution_count": 4,
   "id": "ddd66d19",
   "metadata": {},
   "outputs": [
    {
     "data": {
      "text/plain": [
       "['soup', 'salad', 'sdfg']"
      ]
     },
     "execution_count": 4,
     "metadata": {},
     "output_type": "execute_result"
    }
   ],
   "source": [
    "list(filter(lambda v:v[0]=='s',seq))"
   ]
  },
  {
   "cell_type": "markdown",
   "id": "69e7687a",
   "metadata": {},
   "source": [
    "### Final Problem\n",
    "**You are driving a little too fast, and a police officer stops you. Write a function\n",
    "  to return one of 3 possible results: \"No ticket\", \"Small ticket\", or \"Big Ticket\". \n",
    "  If your speed is 60 or less, the result is \"No Ticket\". If speed is between 61 \n",
    "  and 80 inclusive, the result is \"Small Ticket\". If speed is 81 or more, the result is \"Big    Ticket\". Unless it is your birthday (encoded as a boolean value in the parameters of the function) -- on your birthday, your speed can be 5 higher in all \n",
    "  cases. **"
   ]
  },
  {
   "cell_type": "code",
   "execution_count": 16,
   "id": "b2d14b21",
   "metadata": {},
   "outputs": [],
   "source": []
  },
  {
   "cell_type": "code",
   "execution_count": 17,
   "id": "b8ba91ea",
   "metadata": {},
   "outputs": [
    {
     "data": {
      "text/plain": [
       "'Big Ticket'"
      ]
     },
     "execution_count": 17,
     "metadata": {},
     "output_type": "execute_result"
    }
   ],
   "source": [
    "find_speed(86,False)"
   ]
  },
  {
   "cell_type": "code",
   "execution_count": 21,
   "id": "41a74b04",
   "metadata": {},
   "outputs": [],
   "source": [
    "def speed_test(speed,bday):\n",
    "    if bday:\n",
    "        new_speed=speed-5\n",
    "    else:\n",
    "        new_speed=speed\n",
    "        \n",
    "    if new_speed<=60:\n",
    "        return \"No Ticket\"\n",
    "    if 61<= new_speed <= 80:\n",
    "        return \"Small Ticket\"\n",
    "    if new_speed >=80:\n",
    "        return \"Big Ticket\""
   ]
  },
  {
   "cell_type": "code",
   "execution_count": 22,
   "id": "14af665e",
   "metadata": {},
   "outputs": [
    {
     "data": {
      "text/plain": [
       "'No Ticket'"
      ]
     },
     "execution_count": 22,
     "metadata": {},
     "output_type": "execute_result"
    }
   ],
   "source": [
    "speed_test(56,True)"
   ]
  },
  {
   "cell_type": "markdown",
   "id": "67f5585b",
   "metadata": {},
   "source": [
    "####Question\n",
    "***Given a string print number num by extracting all the\n",
    "digits from the string as in string\n",
    "Print negative number if the first character in \n",
    "string is '-'\n",
    "eg.\n",
    "-123abcd should return -123,abcd456-->456,fdhfh78dsd89--->7889,-56dssd78-->-5678***"
   ]
  },
  {
   "cell_type": "code",
   "execution_count": 26,
   "id": "3b9f393c",
   "metadata": {},
   "outputs": [
    {
     "name": "stdout",
     "output_type": "stream",
     "text": [
      "Enter the Number:5896asdasdasf23\n",
      "589623\n"
     ]
    }
   ],
   "source": [
    "num=''\n",
    "string=input(\"Enter the Number:\" )\n",
    "a=[0,1,2,3,4,5,6,7,8,9]\n",
    "if string[0]=='-':\n",
    "    num=num+string[0]\n",
    "for d in string:\n",
    "    if d in str(a):\n",
    "        num=num + d\n",
    "print(num)\n",
    "    \n"
   ]
  },
  {
   "cell_type": "markdown",
   "id": "003a7e64",
   "metadata": {},
   "source": [
    "Q2\n",
    "WAP to check whether a number is palindrome or not on following conditions.\n",
    "1. take input number\n",
    "2. add number and its reverse\n",
    "3. check that number is palindrome or not,if not then sum and its reverse"
   ]
  },
  {
   "cell_type": "code",
   "execution_count": 39,
   "id": "87b9d48b",
   "metadata": {},
   "outputs": [
    {
     "name": "stdout",
     "output_type": "stream",
     "text": [
      "Enter the number:526\n",
      "Number is : 2662\n",
      "Reverse is : 2662\n",
      "Palidrome is : 2662\n"
     ]
    }
   ],
   "source": [
    "num=input(\"Enter the number:\")\n",
    "num2=int(num[::-1])\n",
    "num3=str(int(num)+num2)\n",
    "while num3!=num3[::-1]:\n",
    "    num3= str(int(num3)+int(num3[::-1]))\n",
    "    print(\"Number is :\",num3)\n",
    "    print(\"Reverse is :\",num3[::-1])\n",
    "print(\"Palidrome is :\", num3)\n",
    "    "
   ]
  },
  {
   "cell_type": "markdown",
   "id": "ea1e0594",
   "metadata": {},
   "source": [
    "Write a python function to find and display the five \n",
    "digit number in which the first digit is two more than \n",
    "the second,the second digit is two more than the third,\n",
    "the fourth digit is two less than the third, and the \n",
    "last digit is two more than\n",
    "the fourth.The sum of the third,fourth and fifth digits\n",
    "equals the first.The sum of all the digits is 19"
   ]
  },
  {
   "cell_type": "code",
   "execution_count": 42,
   "id": "6126f80f",
   "metadata": {},
   "outputs": [],
   "source": [
    "def five_digit():\n",
    "    for a in range(0,10):\n",
    "        b=a-2\n",
    "        c=b-2\n",
    "        d=c-2\n",
    "        if c+d+c==a and a+b+c+d+c==19:\n",
    "            print(str(a)+str(b)+str(c)+str(d)+str(c))"
   ]
  },
  {
   "cell_type": "code",
   "execution_count": 43,
   "id": "df9de7bb",
   "metadata": {},
   "outputs": [
    {
     "name": "stdout",
     "output_type": "stream",
     "text": [
      "75313\n"
     ]
    }
   ],
   "source": [
    "five_digit()"
   ]
  },
  {
   "cell_type": "code",
   "execution_count": null,
   "id": "4a6c599f",
   "metadata": {},
   "outputs": [],
   "source": []
  }
 ],
 "metadata": {
  "kernelspec": {
   "display_name": "Python 3 (ipykernel)",
   "language": "python",
   "name": "python3"
  },
  "language_info": {
   "codemirror_mode": {
    "name": "ipython",
    "version": 3
   },
   "file_extension": ".py",
   "mimetype": "text/x-python",
   "name": "python",
   "nbconvert_exporter": "python",
   "pygments_lexer": "ipython3",
   "version": "3.9.12"
  }
 },
 "nbformat": 4,
 "nbformat_minor": 5
}
